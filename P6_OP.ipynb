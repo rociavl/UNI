{
  "nbformat": 4,
  "nbformat_minor": 0,
  "metadata": {
    "colab": {
      "provenance": [],
      "authorship_tag": "ABX9TyPh9LKx8i0BYE+D6CA5DYYC"
    },
    "kernelspec": {
      "name": "python3",
      "display_name": "Python 3"
    },
    "language_info": {
      "name": "python"
    }
  },
  "cells": [
    {
      "cell_type": "markdown",
      "source": [
        "Una empresa que fabrica motocicletas tiene unas necesidades anuales del componente\n",
        "principal que utiliza de D1 unidades, consumidas homogéneamente durante el\n",
        "transcurso del año. Cada vez que realiza un pedido tiene un coste fijo de 700 u.m., y ha\n",
        "estimado que la tasa anual de coste de mantenimiento de inventario es del 10% del valor\n",
        "del producto. El proveedor ofrece un plan de descuentos uniformes según el volumen:"
      ],
      "metadata": {
        "id": "esNuH9pfTJTJ"
      }
    },
    {
      "cell_type": "markdown",
      "source": [
        "![image.png](data:image/png;base64,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)"
      ],
      "metadata": {
        "id": "FQpQ-x2HTP6q"
      }
    },
    {
      "cell_type": "markdown",
      "source": [
        "1. ¿Cuál es el tamaño del lote más adecuado y cuántos reaprovisionamientos realizará\n",
        "a lo largo del año?\n",
        "2. ¿Cuál es el tamaño del lote más apropiado si el fabricante de motocicletas logra\n",
        "reducir su tasa de coste de mantenimiento de inventario a la mitad?\n",
        "3. Manteniendo el coste de mantenimiento de la pregunta 1, ¿cuál sería el nuevo\n",
        "tamaño de lote si la demanda anual de componentes fuera el doble de la actual?"
      ],
      "metadata": {
        "id": "uQRunOwuTSXe"
      }
    },
    {
      "cell_type": "markdown",
      "source": [
        "Ahora se considera que la empresa dispone de una máquina con capacidad para procesar\n",
        "anualmente, a ritmo constante y sin interrupción, 8.000 piezas; de las cuales se solicitan\n",
        "en la línea, de manera homogénea a lo largo del tiempo, D2 unidades al año. Cada vez\n",
        "que se lanza un lote de producción, se requiere un día de preparación de las máquinas y\n",
        "se incurre en otros gastos que, en conjunto, se han valorado en 10 u.m. por cada\n",
        "lanzamiento. La obtención de una pieza cuesta (40+X) u.m., y el coste de posesión del\n",
        "inventario se contabiliza, en este caso, al 5% anual del valor del producto."
      ],
      "metadata": {
        "id": "caLPqjYUgjm2"
      }
    },
    {
      "cell_type": "markdown",
      "source": [
        "\n",
        "\n",
        "4. ¿Qué tamaño tendrá el lote de fabricación? ¿Cuánto tiempo tardará en obtenerse un\n",
        "lote? ¿Cuántos lanzamientos anuales se realizarán? Considere 365 días/año.\n",
        "5. Considerando la posibilidad de producción y consumo simultáneos y homogéneos\n",
        "en el tiempo, determinar la expresión del coste anual óptimo, K*, en función de los\n",
        "parámetros: CL, CS, D y P. Aplicar la fórmula con los datos disponibles.\n",
        "6. ¿Qué solución propondría en caso de que el 5% de las piezas que produce el taller\n",
        "de prensas fueran defectuosas?\n",
        "\n",
        "\n",
        "\n"
      ],
      "metadata": {
        "id": "5dqsSC-ugmtH"
      }
    },
    {
      "cell_type": "code",
      "execution_count": 13,
      "metadata": {
        "colab": {
          "base_uri": "https://localhost:8080/"
        },
        "id": "lT6RWTubTGJF",
        "outputId": "fa410b13-eed1-4bd5-ed2e-38a2f40f1499"
      },
      "outputs": [
        {
          "output_type": "stream",
          "name": "stdout",
          "text": [
            "1. Lotes encontrados; Q =  {'1': 999, '2': 1166, '3': 2500, '4': 5000}\n",
            "   Costes anuales; K = {'1': 1062251.757007007, '2': 1042008.3305317324, '3': 1025425.0, '4': 1016150.0}\n",
            "    Lote más adecuado: 5000\n",
            "    valor min coste= ('4', 1016150.0)\n",
            "    reprovisionamientos/año --> 2.0\n",
            "2. Lotes encontrados; Q =  {'1': 999, '2': 1649, '3': 2500, '4': 5000}\n",
            "   Costes anuales; K = {'1': 1059629.382007007, '2': 1038491.1719678594, '3': 1019112.5, '4': 1003775.0}\n",
            "    Lote más adecuado: 5000\n",
            "3. Lotes encontrados; Q =  {'1': 999, '2': 1649, '3': 2500, '4': 5000}\n",
            "   Costes anuales; K = {'1': 2119258.764014014, '2': 2076982.3439357188, '3': 2038225.0, '4': 2007550.0}\n",
            "    Lote más adecuado: 5000\n",
            "    valor min coste= ('4', 2007550.0)\n",
            "    reprovisionamientos/año --> 2.0\n",
            "4. Q = 267 uds\n",
            "   N = 14.9812734082397 lanz/año\n",
            "   T = 12.181875 dies\n",
            "5. K(Q) = 300.000234082397 um\n",
            "6. Demanda real: 281\n"
          ]
        }
      ],
      "source": [
        "import numpy as np\n",
        "D1 = 10000 # cambiar\n",
        "X = 5 # cambiar\n",
        "i_1 = 0.1\n",
        "C_L = 700\n",
        "dic_tabla = {\n",
        "    '1': [[0, 999], 100 + X],\n",
        "    '2': [[1000, 2499], 98 + X],\n",
        "    '3': [[2500, 4999], 96 + X],\n",
        "    '4': [[5000, float('inf')], 94 + X]\n",
        "}\n",
        "\n",
        "def lote(dic_tabla, D1, C_L, i):\n",
        "  lotes = {}\n",
        "  preu_unitari = []\n",
        "  for key, value in dic_tabla.items():\n",
        "    lote =  np.sqrt(2*D1*C_L/(value[1]*i))\n",
        "    preu_unitari.append(value[1])\n",
        "    if value[0][0]<=lote<=value[0][1]:\n",
        "      lotes[key] = round(lote)\n",
        "    else:\n",
        "      lotes[key] = value[0][1] if lote > value[0][1] else value[0][0]\n",
        "  return lotes, preu_unitari\n",
        "\n",
        "lotes_1 = lote(dic_tabla, D1, C_L, i_1)\n",
        "print(f'1. Lotes encontrados; Q =  {lotes_1[0]}')\n",
        "\n",
        "preu_unitari_1 = lotes_1[1]\n",
        "def coste_anual_medio(lotes, C_L, D, preu_unitari, i):\n",
        "  coste_anual = {}\n",
        "  for key, value in lotes.items():\n",
        "    index = int(key) - 1\n",
        "    coste_anual[key] = C_L*D/value + preu_unitari[index]*D + i*preu_unitari[index]*value/2\n",
        "  return coste_anual\n",
        "\n",
        "costes_1 = coste_anual_medio(lotes_1[0], C_L, D1, preu_unitari_1, i_1)\n",
        "print(f'   Costes anuales; K = {costes_1}')\n",
        "\n",
        "def coste_min_reaprovi(costes, D, lotes):\n",
        "    # Find the minimum cost\n",
        "    coste_min = min(costes.values())\n",
        "\n",
        "    # Find the corresponding key and value\n",
        "    for key, value in costes.items():\n",
        "        if value == coste_min:\n",
        "            return key, value, D1/lotes[0][key], lotes[0][key]\n",
        "\n",
        "\n",
        "coste_min_1 = coste_min_reaprovi(costes_1, D1, lotes_1)\n",
        "print(f'    Lote más adecuado: {coste_min_1[3]}')\n",
        "print(f'    valor min coste= {coste_min_1[:2]}')\n",
        "print(f'    reprovisionamientos/año --> {coste_min_1[2]}')\n",
        "\n",
        "i_2_cs = i_1/2\n",
        "lotes_2_cs = lote(dic_tabla, D1, C_L, i_2_cs)\n",
        "print(f'2. Lotes encontrados; Q =  {lotes_2_cs[0]}')\n",
        "costes_2_cs = coste_anual_medio(lotes_2_cs[0], C_L, D1, preu_unitari_1, i_2_cs)\n",
        "print(f'   Costes anuales; K = {costes_2_cs}')\n",
        "coste_min_2_cs = coste_min_reaprovi(costes_2_cs, D1, lotes_2_cs)\n",
        "print(f'    Lote más adecuado: {coste_min_2_cs[3]}')\n",
        "\n",
        "\n",
        "\n",
        "D2 = 2*D1\n",
        "lotes_2 = lote(dic_tabla, D2, C_L, i_1)\n",
        "print(f'3. Lotes encontrados; Q =  {lotes_2[0]}')\n",
        "preu_unitari_2 = lotes_2[1]\n",
        "costes_2 = coste_anual_medio(lotes_2[0], C_L, D2, preu_unitari_2, i_1)\n",
        "print(f'   Costes anuales; K = {costes_2}')\n",
        "coste_min_2 = coste_min_reaprovi(costes_2, D2, lotes_2)\n",
        "print(f'    Lote más adecuado: {coste_min_2[3]}')\n",
        "print(f'    valor min coste= {coste_min_2[:2]}')\n",
        "print(f'    reprovisionamientos/año --> {coste_min_2[2]}')\n",
        "\n",
        "P = 8000\n",
        "D_3_2 = 4000 # cambiar\n",
        "TP = 1\n",
        "CA_2 = 40 + X\n",
        "C_L_2 = 10\n",
        "i_2 = 0.05\n",
        "\n",
        "def varios_productos(P, D, TP, CA, C_L, i):\n",
        "  Q = round(np.sqrt(2*D*C_L/(i*CA*(1-D/P))))\n",
        "  N_1 = np.sqrt(CA*i*D*(1-D/P)/(2*C_L))\n",
        "  N_2 = (1-D/P)/(TP/365)\n",
        "  N = D/Q\n",
        "  T = Q*365/P\n",
        "  return Q, N,T\n",
        "\n",
        "Q_2 = varios_productos(P, D_3_2, TP, CA_2, C_L_2, i_2)\n",
        "print(f'4. Q = {Q_2[0]} uds')\n",
        "print(f'   N = {Q_2[1]} lanz/año')\n",
        "print(f'   T = {Q_2[2]} dies')\n",
        "\n",
        "def coste_EPQ(C_L, D, Q, CA, i):\n",
        "  k = C_L*D/Q + CA*i*Q/2*(1-D/P)\n",
        "  return k\n",
        "\n",
        "COSTE_EPQ = coste_EPQ(C_L_2, D_3_2, Q_2[0], CA_2, i_2)\n",
        "print(f'5. K(Q) = {COSTE_EPQ} um')\n",
        "\n",
        "demanda_real = D_3_2/0.95\n",
        "Q_real = np.sqrt(2*demanda_real*C_L_2/(i_2*CA_2*(1-demanda_real/P)))\n",
        "print(f'6. Demanda real: {round(Q_real)}')"
      ]
    }
  ]
}