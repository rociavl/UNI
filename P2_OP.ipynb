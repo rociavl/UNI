{
  "nbformat": 4,
  "nbformat_minor": 0,
  "metadata": {
    "colab": {
      "provenance": [],
      "authorship_tag": "ABX9TyP2s3BTjaZdQQAO7VryrH7+",
      "include_colab_link": true
    },
    "kernelspec": {
      "name": "python3",
      "display_name": "Python 3"
    },
    "language_info": {
      "name": "python"
    }
  },
  "cells": [
    {
      "cell_type": "markdown",
      "metadata": {
        "id": "view-in-github",
        "colab_type": "text"
      },
      "source": [
        "<a href=\"https://colab.research.google.com/github/rociavl/UNI/blob/main/P2_OP.ipynb\" target=\"_parent\"><img src=\"https://colab.research.google.com/assets/colab-badge.svg\" alt=\"Open In Colab\"/></a>"
      ]
    },
    {
      "cell_type": "code",
      "source": [
        "import networkx as nx\n",
        "import matplotlib.pyplot as plt\n",
        "\n",
        "# Definir la estructura de precedencias y tiempos\n",
        "precedencias_proyecto = {\n",
        "    'A': [], 'B': ['A'], 'C': ['B', 'H'], 'D': [], 'E': ['G'], 'F': ['E'],\n",
        "    'G': ['D'], 'H': ['G'], 'I': ['D'], 'J': ['I'], 'K': ['D'],\n",
        "    'L': ['J', 'K'], 'M': ['C', 'L', 'F'], 'O': ['M'], 'P': ['M'],\n",
        "    'Q': ['T'], 'R': ['P'], 'S': ['O'], 'T': ['R', 'S'], 'U': ['Q']\n",
        "}\n",
        "\n",
        "# Tiempos de duración de las actividades\n",
        "tiempos_proyecto = {\n",
        "    'A': 4, 'B': 3, 'C': 2, 'D': 7, 'E': 2, 'F': 10, 'G': 5,\n",
        "    'H': 15, 'I': 5, 'J': 6, 'K': 10, 'L': 2, 'M': 3, 'O': 8,\n",
        "    'P': 5, 'Q': 2, 'R': 4, 'S': 3, 'T': 6, 'U': 5\n",
        "}\n",
        "\n",
        "# Crear el grafo dirigido\n",
        "G_proyecto = nx.DiGraph()\n",
        "\n",
        "# Agregar un nodo ficticio inicial\n",
        "nodo_inicial_ficticio = 'α'\n",
        "for tarea, predecesores in precedencias_proyecto.items():\n",
        "    if not predecesores:  # Si la tarea no tiene predecesores\n",
        "        G_proyecto.add_edge(nodo_inicial_ficticio, tarea, weight=0)  # Conectar al nodo ficticio con peso 0\n",
        "    for predecesor in predecesores:\n",
        "        G_proyecto.add_edge(predecesor, tarea, weight=tiempos_proyecto[tarea])\n",
        "\n",
        "# Añadir nodo ficticio final\n",
        "nodo_final_ficticio = 'ω'\n",
        "for tarea in list(G_proyecto.nodes):  # Convertimos los nodos a una lista para evitar cambios durante la iteración\n",
        "    if G_proyecto.out_degree(tarea) == 0 and tarea != nodo_inicial_ficticio:  # Si no tiene sucesores\n",
        "        G_proyecto.add_edge(tarea, nodo_final_ficticio, weight=0)  # Conectar al nodo ficticio final con peso 0\n",
        "\n",
        "# Añadir tiempos de procesamiento como atributos de nodos\n",
        "nx.set_node_attributes(G_proyecto, tiempos_proyecto, 'duration')\n",
        "\n",
        "# Utilizar nx.dag_longest_path para calcular el camino crítico\n",
        "camino_critico = nx.dag_longest_path(G_proyecto, weight='weight')\n",
        "\n",
        "# Filtrar nodos ficticios\n",
        "camino_critico = [nodo for nodo in camino_critico if nodo not in [nodo_inicial_ficticio, nodo_final_ficticio]]\n",
        "\n",
        "# Duración total del proyecto (longitud del camino crítico)\n",
        "duracion_total_proyecto = sum(tiempos_proyecto[nodo] for nodo in camino_critico)\n",
        "duracion_total_2 = nx.dag_longest_path_length(G_proyecto, weight='weight')\n",
        "# Imprimir resultados\n",
        "print(f\"1. Duración mínima del proyecto: {duracion_total_proyecto} días\")\n",
        "print(f\"2. Camino Crítico: {camino_critico}\")\n",
        "\n",
        "# Calcular Early Start (ES) y Early Finish (EF)\n",
        "early_start = {nodo: 0 for nodo in G_proyecto.nodes}\n",
        "for nodo in nx.topological_sort(G_proyecto):  # Orden topológico\n",
        "    for predecesor in G_proyecto.predecessors(nodo):\n",
        "        early_start[nodo] = max(early_start[nodo], early_start[predecesor] + tiempos_proyecto.get(predecesor, 0))\n",
        "\n",
        "early_finish = {nodo: early_start[nodo] + tiempos_proyecto.get(nodo, 0) for nodo in G_proyecto.nodes}\n",
        "\n",
        "# Duración total del proyecto es el máximo tiempo de finalización\n",
        "duracion_total_proyecto = max(early_finish.values())\n",
        "\n",
        "# Calcular Late Finish (LF) y Late Start (LS) hacia atrás\n",
        "late_finish = {nodo: duracion_total_proyecto for nodo in G_proyecto.nodes}\n",
        "for nodo in reversed(list(nx.topological_sort(G_proyecto))):  # Invertimos el orden topológico\n",
        "    for sucesor in G_proyecto.successors(nodo):\n",
        "        late_finish[nodo] = min(late_finish[nodo], late_finish[sucesor] - tiempos_proyecto.get(sucesor, 0))\n",
        "\n",
        "late_start = {nodo: late_finish[nodo] - tiempos_proyecto.get(nodo, 0) for nodo in G_proyecto.nodes}\n",
        "\n",
        "# Calcular holguras (slack)\n",
        "margenes = {nodo: late_start[nodo] - early_start[nodo] for nodo in G_proyecto.nodes}\n",
        "\n",
        "# Sumar los márgenes de las actividades C, G, L y S\n",
        "margen_total = sum(margenes[nodo] for nodo in ['C', 'G', 'L', 'S'])\n",
        "print(f\"3. Suma de los márgenes de las actividades C, G, L y S: {margen_total}, Margenes:{margenes} \")\n",
        "\n",
        "# Cambio G->I o  G <-I\n",
        "def camino_nuevo(node1, node2):\n",
        "    # Cálculo de los tiempos máximos al cambiar la relación entre node1 y node2\n",
        "    D_max = {\n",
        "        'Right': max(duracion_total_proyecto, early_start[node1] + tiempos_proyecto[node1] + duracion_total_proyecto - late_start[node2]),\n",
        "        'Left': max(duracion_total_proyecto, early_start[node2] + tiempos_proyecto[node2] + duracion_total_proyecto - late_start[node1])\n",
        "    }\n",
        "    mejor_opcion = min(D_max, key=D_max.get)\n",
        "\n",
        "    # Agregar la nueva precedencia al grafo existente\n",
        "    if mejor_opcion == 'Right':\n",
        "        respuesta = f'{node1} -> {node2}'\n",
        "        G_proyecto.add_edge(node1, node2, weight=tiempos_proyecto[node2])\n",
        "    else:\n",
        "        respuesta = f'{node2} -> {node1}'\n",
        "        G_proyecto.add_edge(node2, node1, weight=tiempos_proyecto[node1])\n",
        "\n",
        "    # Recalcular el camino crítico\n",
        "    nuevo_camino_critico = nx.dag_longest_path(G_proyecto, weight='weight')\n",
        "    nuevo_camino_critico = [nodo for nodo in nuevo_camino_critico if nodo not in [nodo_inicial_ficticio, nodo_final_ficticio]]\n",
        "    nueva_duracion_total = sum(tiempos_proyecto[nodo] for nodo in nuevo_camino_critico)\n",
        "\n",
        "    return nueva_duracion_total, respuesta,nuevo_camino_critico\n",
        "\n",
        "# Ejemplo de llamada a la función con nodos diferentes\n",
        "resultado_nuevo_camino = camino_nuevo('G', 'I')\n",
        "\n",
        "# Print the results\n",
        "print(f\"4. Resultado del nuevo camino entre G e I: {resultado_nuevo_camino[1]}, Nueva duración total: {resultado_nuevo_camino[0]}, Nuevo camino crítico: {resultado_nuevo_camino[2]}\")\n"
      ],
      "metadata": {
        "colab": {
          "base_uri": "https://localhost:8080/"
        },
        "id": "3qaaq2cOYqIn",
        "outputId": "062bc3a5-b7ba-44c2-c274-e841ed726ae7"
      },
      "execution_count": 11,
      "outputs": [
        {
          "output_type": "stream",
          "name": "stdout",
          "text": [
            "1. Duración mínima del proyecto: 56 días\n",
            "2. Camino Crítico: ['D', 'G', 'H', 'C', 'M', 'O', 'S', 'T', 'Q', 'U']\n",
            "3. Suma de los márgenes de las actividades C, G, L y S: 9, Margenes:{'α': 0, 'A': 20, 'B': 20, 'C': 0, 'H': 0, 'D': 0, 'G': 0, 'E': 5, 'F': 5, 'I': 9, 'J': 9, 'K': 10, 'L': 9, 'M': 0, 'O': 0, 'P': 2, 'T': 0, 'Q': 0, 'R': 2, 'S': 0, 'U': 0, 'ω': 0} \n",
            "4. Resultado del nuevo camino entre G e I: G -> I, Nueva duración total: 56, Nuevo camino crítico: ['D', 'G', 'H', 'C', 'M', 'O', 'S', 'T', 'Q', 'U']\n"
          ]
        }
      ]
    }
  ]
}